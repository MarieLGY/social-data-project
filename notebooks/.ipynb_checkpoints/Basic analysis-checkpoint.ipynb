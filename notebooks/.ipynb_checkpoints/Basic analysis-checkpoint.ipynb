{
 "cells": [
  {
   "cell_type": "markdown",
   "metadata": {},
   "source": [
    "**Import data and count number of rows**"
   ]
  },
  {
   "cell_type": "code",
   "execution_count": 1,
   "metadata": {
    "collapsed": false
   },
   "outputs": [
    {
     "name": "stdout",
     "output_type": "stream",
     "text": [
      "Number of pick-ups:  846945\n"
     ]
    }
   ],
   "source": [
    "import csv\n",
    "infile = open(\"nyc_data.csv\", 'r')    # open the file for reading\n",
    "cpt = 0;\n",
    "\n",
    "reader = csv.reader(infile)\n",
    "reader.next() #remove headers\n",
    "data = []\n",
    "\n",
    "for line in reader:                   # read through the CSV one line at a time\n",
    "    cpt+=1\n",
    "    data.append(line)\n",
    "    \n",
    "print \"Number of pick-ups: \", cpt"
   ]
  },
  {
   "cell_type": "markdown",
   "metadata": {
    "collapsed": true
   },
   "source": [
    "**Extract all hours and month of pick-ups**"
   ]
  },
  {
   "cell_type": "code",
   "execution_count": 6,
   "metadata": {
    "collapsed": false
   },
   "outputs": [],
   "source": [
    "from collections import Counter\n",
    "\n",
    "months = []\n",
    "hours = []\n",
    "for d in data:\n",
    "    datetime = d[5]\n",
    "    date, time = datetime.split(\" \")\n",
    "    year, month, day = date.split(\"-\")\n",
    "    hour, minute, second = time.split(\":\")\n",
    "    months.append(month)\n",
    "    hours.append(hour)\n",
    "    \n",
    "histogram1 = Counter(months)\n",
    "histogram2 = Counter(hours)"
   ]
  },
  {
   "cell_type": "markdown",
   "metadata": {},
   "source": [
    "**Plot histogram of number of pick-ups according to month**"
   ]
  },
  {
   "cell_type": "code",
   "execution_count": 8,
   "metadata": {
    "collapsed": false
   },
   "outputs": [
    {
     "data": {
      "image/png": "[encoded data removed]",
      "text/plain": [
       "<matplotlib.figure.Figure at 0x63c62eb8>"
      ]
     },
     "metadata": {},
     "output_type": "display_data"
    }
   ],
   "source": [
    "import numpy as np\n",
    "import matplotlib.pyplot as plt\n",
    "%matplotlib inline  \n",
    "\n",
    "sorted_keys =[]\n",
    "values = []\n",
    "\n",
    "for key in sorted(histogram1):\n",
    "    sorted_keys.append(key)\n",
    "    values.append(histogram1[key])\n",
    "\n",
    "pos = np.arange(len(sorted_keys))\n",
    "width = 0.8     # gives histogram aspect to the bar diagram\n",
    "\n",
    "fig_size = plt.rcParams[\"figure.figsize\"]\n",
    "fig_size[0] = 9\n",
    "fig_size[1] = 6\n",
    "plt.rcParams[\"figure.figsize\"] = fig_size\n",
    "\n",
    "ax = plt.axes()\n",
    "ax.set_xticks(pos + (width / 2))\n",
    "labels=[\"january\",\"february\",\"march\",\"april\",\"may\",\"june\",\"july\",\"august\",\"september\",\"october\",\"november\",\"decemeber\"]\n",
    "ax.set_xticklabels(labels)\n",
    "plt.xticks([i + 0.5 for i,_ in enumerate(sorted_keys)], labels, rotation='vertical')\n",
    "plt.tick_params(axis='both', which='major', labelsize=10)\n",
    "plt.ylabel('Number of pick-up', )\n",
    "plt.xlabel('Month of the year')\n",
    "\n",
    "plt.bar(pos, values, width, color='0.5')\n",
    "plt.show()"
   ]
  },
  {
   "cell_type": "code",
   "execution_count": 9,
   "metadata": {
    "collapsed": false
   },
   "outputs": [
    {
     "data": {
      "image/png": "[encoded data removed]",
      "text/plain": [
       "<matplotlib.figure.Figure at 0x369c400>"
      ]
     },
     "metadata": {},
     "output_type": "display_data"
    }
   ],
   "source": [
    "from collections import Counter\n",
    "import numpy as np\n",
    "import matplotlib.pyplot as plt\n",
    "%matplotlib inline  \n",
    "\n",
    "sorted_keys =[]\n",
    "values = []\n",
    "\n",
    "for key in sorted(histogram2):\n",
    "    sorted_keys.append(key)\n",
    "    values.append(histogram2[key])\n",
    "\n",
    "pos = np.arange(len(sorted_keys))\n",
    "width = 0.8     # gives histogram aspect to the bar diagram\n",
    "\n",
    "fig_size = plt.rcParams[\"figure.figsize\"]\n",
    "fig_size[0] = 9\n",
    "fig_size[1] = 6\n",
    "plt.rcParams[\"figure.figsize\"] = fig_size\n",
    "\n",
    "ax = plt.axes()\n",
    "ax.set_xticks(pos + (width / 2))\n",
    "ax.set_xticklabels(sorted_keys)\n",
    "plt.xticks([i + 0.5 for i,_ in enumerate(sorted_keys)], sorted_keys, rotation='vertical')\n",
    "plt.tick_params(axis='both', which='major', labelsize=10)\n",
    "plt.ylabel('Number of pick-up', )\n",
    "plt.xlabel('Hour of the day')\n",
    "\n",
    "plt.bar(pos, values, width, color='0.5')\n",
    "plt.show()"
   ]
  },
  {
   "cell_type": "code",
   "execution_count": 2,
   "metadata": {
    "collapsed": false
   },
   "outputs": [
    {
     "ename": "TypeError",
     "evalue": "'type' object is not iterable",
     "output_type": "error",
     "traceback": [
      "\u001b[1;31m---------------------------------------------------------------------------\u001b[0m",
      "\u001b[1;31mTypeError\u001b[0m                                 Traceback (most recent call last)",
      "\u001b[1;32m<ipython-input-2-675c34c879f6>\u001b[0m in \u001b[0;36m<module>\u001b[1;34m()\u001b[0m\n\u001b[0;32m      4\u001b[0m \u001b[1;32mfrom\u001b[0m \u001b[0mgeoplotlib\u001b[0m\u001b[1;33m.\u001b[0m\u001b[0mutils\u001b[0m \u001b[1;32mimport\u001b[0m \u001b[0mBoundingBox\u001b[0m\u001b[1;33m\u001b[0m\u001b[0m\n\u001b[0;32m      5\u001b[0m \u001b[1;33m\u001b[0m\u001b[0m\n\u001b[1;32m----> 6\u001b[1;33m geo_data_for_plotting = {\"lat\": [float(line[11]) for line in file],\n\u001b[0m\u001b[0;32m      7\u001b[0m                          \"lon\": [float(line[10]) for line in file]}\n\u001b[0;32m      8\u001b[0m \u001b[1;33m\u001b[0m\u001b[0m\n",
      "\u001b[1;31mTypeError\u001b[0m: 'type' object is not iterable"
     ]
    }
   ],
   "source": [
    "import geoplotlib\n",
    "from geoplotlib.utils import BoundingBox\n",
    "import numpy as np\n",
    "from geoplotlib.utils import BoundingBox\n",
    "\n",
    "geo_data_for_plotting = {\"lat\": [float(line[11]) for line in file],\n",
    "                         \"lon\": [float(line[10]) for line in file]}\n",
    "\n",
    "geoplotlib.kde(geo_data_for_plotting, bw=5, cut_below=1e-4)\n",
    "offset = 0.04\n",
    "geoplotlib.set_bbox(geoplotlib.utils.BoundingBox(north = np.mean(geo_data_for_plotting[\"lat\"]) + offset, south = np.mean(geo_data_for_plotting[\"lat\"]) - offset, east = np.mean(geo_data_for_plotting[\"lon\"]) + offset, west = np.mean(geo_data_for_plotting[\"lon\"])-offset))\n",
    "geoplotlib.inline()"
   ]
  },
  {
   "cell_type": "code",
   "execution_count": null,
   "metadata": {
    "collapsed": true
   },
   "outputs": [],
   "source": []
  }
 ],
 "metadata": {
  "kernelspec": {
   "display_name": "Python 2",
   "language": "python",
   "name": "python2"
  },
  "language_info": {
   "codemirror_mode": {
    "name": "ipython",
    "version": 2
   },
   "file_extension": ".py",
   "mimetype": "text/x-python",
   "name": "python",
   "nbconvert_exporter": "python",
   "pygments_lexer": "ipython2",
   "version": "2.7.11"
  }
 },
 "nbformat": 4,
 "nbformat_minor": 0
}
