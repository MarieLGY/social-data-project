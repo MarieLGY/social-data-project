{
 "cells": [
  {
   "cell_type": "markdown",
   "metadata": {},
   "source": [
    "# Logistic regression to predict tip category\n",
    "\n",
    "Obtain necessary data from the two datafiles:"
   ]
  },
  {
   "cell_type": "code",
   "execution_count": 1,
   "metadata": {
    "collapsed": false
   },
   "outputs": [
    {
     "name": "stdout",
     "output_type": "stream",
     "text": [
      "846945\n"
     ]
    }
   ],
   "source": [
    "import csv\n",
    "infile = open(\"nyc_data.csv\", 'r')    # open the file for reading\n",
    "infile2 = open(\"nyc_fare.csv\", 'r')\n",
    "\n",
    "reader = csv.reader(infile)\n",
    "reader2 = csv.reader(infile2)\n",
    "reader.next() #remove headers\n",
    "reader2.next()\n",
    "\n",
    "taxi_file = []\n",
    "taxi_file2 = []\n",
    "\n",
    "for line in reader:     \n",
    "    taxi_file.append(line)\n",
    "    \n",
    "nb = 0\n",
    "for line2 in reader2:                   # read through the CSV one line at a time\n",
    "    taxi_file2.append(line2)\n",
    "    \n",
    "print len(taxi_file)"
   ]
  },
  {
   "cell_type": "code",
   "execution_count": 15,
   "metadata": {
    "collapsed": false
   },
   "outputs": [
    {
     "name": "stdout",
     "output_type": "stream",
     "text": [
      "456019\n",
      "[1.0, 960.0, 3.28, 14.5, '2.8']\n"
     ]
    }
   ],
   "source": [
    "temp =[]\n",
    "data = []\n",
    "\n",
    "for line in taxi_file:\n",
    "    data_list = []\n",
    "    data_list.append(float(line[7]))\n",
    "    data_list.append(float(line[8]))\n",
    "    data_list.append(float(line[9]))\n",
    "    temp.append(data_list)\n",
    "    \n",
    "nb = 0\n",
    "for line2 in taxi_file2:                   # read through the CSV one line at a time\n",
    "    if line2[4] == 'CRD':\n",
    "        data.append(temp[nb]+ ([float(line2[5]) + float(line2[6]) + float(line2[7]) + float(line2[9])] + ([line2[8]])))\n",
    "    nb+=1\n",
    "    \n",
    "print len(data)\n",
    "print data[0]"
   ]
  },
  {
   "cell_type": "markdown",
   "metadata": {},
   "source": [
    "Transform tip value in categories:"
   ]
  },
  {
   "cell_type": "code",
   "execution_count": 16,
   "metadata": {
    "collapsed": false
   },
   "outputs": [
    {
     "name": "stdout",
     "output_type": "stream",
     "text": [
      "0.996702277756\n",
      "1.99340455551\n",
      "2.99010683327\n",
      "3.98680911102\n",
      "high\n"
     ]
    }
   ],
   "source": [
    "import numpy as np\n",
    "from __future__ import division\n",
    "\n",
    "y_mean = np.mean([float(d[4]) for d in data])\n",
    "y_low = y_mean * 2/5\n",
    "y_medium_low = y_low * 2\n",
    "y_medium = y_mean * 6/5\n",
    "y_medium_high = y_mean * 8/5\n",
    "\n",
    "print y_low\n",
    "print y_medium_low\n",
    "print y_medium\n",
    "print y_medium_high\n",
    "\n",
    "i=0\n",
    "for d in data:\n",
    "    if float(d[4]) < y_low:\n",
    "        data[i][4] = 'low'\n",
    "    elif float(d[4]) < y_medium_low:\n",
    "        data[i][4] = 'medium-low'\n",
    "    elif float(d[4]) < y_medium:\n",
    "        data[i][4] = 'medium'\n",
    "    elif float(d[4]) < y_medium_high:\n",
    "        data[i][4] = 'medium-high'\n",
    "    else:\n",
    "        data[i][4] = 'high'\n",
    "    i+=1 \n",
    "    \n",
    "print data[12][4]"
   ]
  },
  {
   "cell_type": "markdown",
   "metadata": {},
   "source": [
    "Divide in training and testing set:"
   ]
  },
  {
   "cell_type": "code",
   "execution_count": 17,
   "metadata": {
    "collapsed": false
   },
   "outputs": [
    {
     "name": "stdout",
     "output_type": "stream",
     "text": [
      "train  365077\n",
      "test  90942\n"
     ]
    }
   ],
   "source": [
    "import random\n",
    "\n",
    "train = []\n",
    "test = []\n",
    "\n",
    "for d in data:\n",
    "    rd = random.random()\n",
    "    if rd < 0.8:\n",
    "        train.append(d)\n",
    "    elif rd < 1.0:\n",
    "        test.append(d)\n",
    "        \n",
    "print 'train ',len(train)\n",
    "print 'test ',len(test)"
   ]
  },
  {
   "cell_type": "markdown",
   "metadata": {},
   "source": [
    "Get input and output variables for the training set:"
   ]
  },
  {
   "cell_type": "code",
   "execution_count": 18,
   "metadata": {
    "collapsed": false
   },
   "outputs": [],
   "source": [
    "x = [line[:4] for line in train]\n",
    "y = [line[4] for line in train]"
   ]
  },
  {
   "cell_type": "markdown",
   "metadata": {},
   "source": [
    "Normalize the training data:"
   ]
  },
  {
   "cell_type": "code",
   "execution_count": 19,
   "metadata": {
    "collapsed": false
   },
   "outputs": [],
   "source": [
    "x_mean = np.array(x).mean(axis=0)\n",
    "x_std = np.array(x).std(axis=0)\n",
    "\n",
    "i=0\n",
    "for line in x:\n",
    "    x[i][0] = (line[0] - x_mean[0])/x_std[0]\n",
    "    x[i][1] = (line[1] - x_mean[1])/x_std[1]\n",
    "    x[i][2] = (line[2] - x_mean[2])/x_std[2]\n",
    "    x[i][3] = (line[3] - x_mean[3])/x_std[3]   \n",
    "    i += 1"
   ]
  },
  {
   "cell_type": "markdown",
   "metadata": {},
   "source": [
    "Perform multivariate regression:"
   ]
  },
  {
   "cell_type": "code",
   "execution_count": 20,
   "metadata": {
    "collapsed": false
   },
   "outputs": [
    {
     "name": "stdout",
     "output_type": "stream",
     "text": [
      "Coefficients:  [[ -2.45891799e-02  -2.70538712e-04   4.24727755e-01   2.18049957e+00]\n",
      " [  5.38067210e-02   2.47790545e-03  -1.60766813e-01  -6.23901113e-02]\n",
      " [ -7.32308121e-03   3.49164752e-03  -3.23209435e-01   2.98620391e-02]\n",
      " [ -2.82916653e-03   2.98309003e-03  -1.29312597e-01   3.34242790e-01]\n",
      " [  7.61907215e-03  -5.78961058e-03   1.59674701e-01  -3.61795718e+00]]\n"
     ]
    }
   ],
   "source": [
    "from sklearn import datasets, linear_model\n",
    "\n",
    "regr = linear_model.LogisticRegression()\n",
    "regr.fit(x, y)\n",
    "\n",
    "print'Coefficients: ', regr.coef_"
   ]
  },
  {
   "cell_type": "markdown",
   "metadata": {},
   "source": [
    "Prepare the testing set:"
   ]
  },
  {
   "cell_type": "code",
   "execution_count": 21,
   "metadata": {
    "collapsed": true
   },
   "outputs": [],
   "source": [
    "x_test = [line[:4] for line in test]\n",
    "y_test = [line[4] for line in test]\n",
    "\n",
    "i = 0\n",
    "for line in x_test:\n",
    "    x_test[i][0] = (line[0] - x_mean[0])/x_std[0]\n",
    "    x_test[i][1] = (line[1] - x_mean[1])/x_std[1]\n",
    "    x_test[i][2] = (line[2] - x_mean[2])/x_std[2]\n",
    "    x_test[i][3] = (line[3] - x_mean[3])/x_std[3]\n",
    "    i += 1"
   ]
  },
  {
   "cell_type": "markdown",
   "metadata": {
    "collapsed": true
   },
   "source": [
    "Get prediction for the testing set:"
   ]
  },
  {
   "cell_type": "code",
   "execution_count": 22,
   "metadata": {
    "collapsed": false
   },
   "outputs": [],
   "source": [
    "prediction = regr.predict(x_test)"
   ]
  },
  {
   "cell_type": "markdown",
   "metadata": {},
   "source": [
    "Get performance score on testing set:\n",
    "    "
   ]
  },
  {
   "cell_type": "code",
   "execution_count": 23,
   "metadata": {
    "collapsed": false
   },
   "outputs": [
    {
     "name": "stdout",
     "output_type": "stream",
     "text": [
      "0.579897077258\n"
     ]
    }
   ],
   "source": [
    "print regr.score(x_test, y_test)"
   ]
  },
  {
   "cell_type": "markdown",
   "metadata": {
    "collapsed": true
   },
   "source": [
    "The $r^2$ score is not that bad, but there is still room for improvement. As the tip depends also on the passenger's experience during the trip, maybe taking the taxi driver's identifier could improve the score? Maybe some drivers are nicer and drive better than other, and are thus more likely to get big tips?"
   ]
  },
  {
   "cell_type": "code",
   "execution_count": 14,
   "metadata": {
    "collapsed": false
   },
   "outputs": [
    {
     "name": "stdout",
     "output_type": "stream",
     "text": [
      "456019\n",
      "['517C6B330DBB3F055D007B07512628B3', '2C19FBEE1A6E05612EFE4C958C14BC7F', 'VTS', 1.0, 960.0, 3.28, 14.5, '2.8']\n"
     ]
    }
   ],
   "source": [
    "temp =[]\n",
    "data = []\n",
    "\n",
    "for line in taxi_file:\n",
    "    data_list = []\n",
    "    data_list.append(line[0])\n",
    "    data_list.append(line[1])\n",
    "    data_list.append(line[2])\n",
    "    data_list.append(float(line[7]))\n",
    "    data_list.append(float(line[8]))\n",
    "    data_list.append(float(line[9]))\n",
    "    temp.append(data_list)\n",
    "    \n",
    "nb = 0\n",
    "for line2 in taxi_file2:                   # read through the CSV one line at a time\n",
    "    if line2[4] == 'CRD':\n",
    "        data.append(temp[nb]+ ([float(line2[5]) + float(line2[6]) + float(line2[7]) + float(line2[9])] + ([line2[8]])))\n",
    "    nb+=1\n",
    "    \n",
    "print len(data)\n",
    "print data[0]"
   ]
  },
  {
   "cell_type": "markdown",
   "metadata": {},
   "source": [
    "Now that we have a new dataset, we can perform exactly the same step than before: divide in training/testing set, fit a logisitic regression, and look at $r^2$ score"
   ]
  },
  {
   "cell_type": "code",
   "execution_count": 25,
   "metadata": {
    "collapsed": false
   },
   "outputs": [
    {
     "name": "stdout",
     "output_type": "stream",
     "text": [
      "train  364792\n",
      "test  91227\n",
      "Coefficients:  [[ -2.50341253e-02  -5.42387582e-04   3.83419640e-01   2.24378817e+00]\n",
      " [  5.46517942e-02   4.03958395e-03  -1.27034808e-01  -1.13012099e-01]\n",
      " [ -5.37809397e-03   6.41685153e-03  -3.20323444e-01   2.81177428e-02]\n",
      " [ -7.06154974e-03   4.86454301e-03  -1.32456649e-01   3.36474543e-01]\n",
      " [  7.95958892e-03  -6.70435627e+00  -8.18809378e-02  -3.02715071e+00]]\n",
      "0.577844278558\n"
     ]
    }
   ],
   "source": [
    "import numpy as np\n",
    "from __future__ import division\n",
    "    \n",
    "train = []\n",
    "test = []\n",
    "\n",
    "for d in data:\n",
    "    rd = random.random()\n",
    "    if rd < 0.8:\n",
    "        train.append(d)\n",
    "    elif rd < 1.0:\n",
    "        test.append(d)\n",
    "        \n",
    "print 'train ',len(train)\n",
    "print 'test ',len(test)\n",
    "\n",
    "x = [line[:4] for line in train]\n",
    "y = [line[4] for line in train]\n",
    "\n",
    "x_mean = np.array(x).mean(axis=0)\n",
    "x_std = np.array(x).std(axis=0)\n",
    "\n",
    "i=0\n",
    "for line in x:\n",
    "    x[i][0] = (line[0] - x_mean[0])/x_std[0]\n",
    "    x[i][1] = (line[1] - x_mean[1])/x_std[1]\n",
    "    x[i][2] = (line[2] - x_mean[2])/x_std[2]\n",
    "    x[i][3] = (line[3] - x_mean[3])/x_std[3]   \n",
    "    i += 1\n",
    "    \n",
    "regr = linear_model.LogisticRegression()\n",
    "regr.fit(x, y)\n",
    "\n",
    "print'Coefficients: ', regr.coef_\n",
    "\n",
    "x_test = [line[:4] for line in test]\n",
    "y_test = [line[4] for line in test]\n",
    "\n",
    "i = 0\n",
    "for line in x_test:\n",
    "    x_test[i][0] = (line[0] - x_mean[0])/x_std[0]\n",
    "    x_test[i][1] = (line[1] - x_mean[1])/x_std[1]\n",
    "    x_test[i][2] = (line[2] - x_mean[2])/x_std[2]\n",
    "    x_test[i][3] = (line[3] - x_mean[3])/x_std[3]\n",
    "    i += 1\n",
    "    \n",
    "print regr.score(x_test, y_test)"
   ]
  },
  {
   "cell_type": "markdown",
   "metadata": {},
   "source": [
    "This has definitly not helped a lot. Maybe the logisitic regression approach is not the best: let's try with a decision tree classifier.\n",
    "\n",
    "For this, we will wome back to the first dataset, using the number of passengers, the trip duration, the trip distance, the amount of the trip, based only on trips paid with credit cards."
   ]
  },
  {
   "cell_type": "code",
   "execution_count": 28,
   "metadata": {
    "collapsed": false
   },
   "outputs": [
    {
     "name": "stdout",
     "output_type": "stream",
     "text": [
      "0.996702277756\n",
      "1.99340455551\n",
      "2.99010683327\n",
      "3.98680911102\n",
      "train  364270\n",
      "test  91749\n"
     ]
    }
   ],
   "source": [
    "temp =[]\n",
    "data = []\n",
    "\n",
    "for line in taxi_file:\n",
    "    data_list = []\n",
    "    data_list.append(float(line[7]))\n",
    "    data_list.append(float(line[8]))\n",
    "    data_list.append(float(line[9]))\n",
    "    temp.append(data_list)\n",
    "    \n",
    "nb = 0\n",
    "for line2 in taxi_file2:                   # read through the CSV one line at a time\n",
    "    if line2[4] == 'CRD':\n",
    "        data.append(temp[nb]+ ([float(line2[5]) + float(line2[6]) + float(line2[7]) + float(line2[9])] + ([line2[8]])))\n",
    "    nb+=1\n",
    "    \n",
    "y_mean = np.mean([float(d[4]) for d in data])\n",
    "y_low = y_mean * 2/5\n",
    "y_medium_low = y_low * 2\n",
    "y_medium = y_mean * 6/5\n",
    "y_medium_high = y_mean * 8/5\n",
    "\n",
    "print y_low\n",
    "print y_medium_low\n",
    "print y_medium\n",
    "print y_medium_high\n",
    "\n",
    "i=0\n",
    "for d in data:\n",
    "    if float(d[4]) < y_low:\n",
    "        data[i][4] = 'low'\n",
    "    elif float(d[4]) < y_medium_low:\n",
    "        data[i][4] = 'medium-low'\n",
    "    elif float(d[4]) < y_medium:\n",
    "        data[i][4] = 'medium'\n",
    "    elif float(d[4]) < y_medium_high:\n",
    "        data[i][4] = 'medium-high'\n",
    "    else:\n",
    "        data[i][4] = 'high'\n",
    "    i+=1 \n",
    "    \n",
    "import random\n",
    "\n",
    "train = []\n",
    "test = []\n",
    "\n",
    "for d in data:\n",
    "    rd = random.random()\n",
    "    if rd < 0.8:\n",
    "        train.append(d)\n",
    "    elif rd < 1.0:\n",
    "        test.append(d)\n",
    "        \n",
    "print 'train ',len(train)\n",
    "print 'test ',len(test)\n",
    "\n",
    "x = [line[:4] for line in train]\n",
    "y = [line[4] for line in train]"
   ]
  },
  {
   "cell_type": "markdown",
   "metadata": {},
   "source": [
    "Now let's fit a decision tree to the training set:"
   ]
  },
  {
   "cell_type": "code",
   "execution_count": 30,
   "metadata": {
    "collapsed": false
   },
   "outputs": [
    {
     "data": {
      "text/plain": [
       "DecisionTreeClassifier(class_weight=None, criterion='gini', max_depth=None,\n",
       "            max_features=None, max_leaf_nodes=None, min_samples_leaf=1,\n",
       "            min_samples_split=2, min_weight_fraction_leaf=0.0,\n",
       "            presort=False, random_state=None, splitter='best')"
      ]
     },
     "execution_count": 30,
     "metadata": {},
     "output_type": "execute_result"
    }
   ],
   "source": [
    "from sklearn import tree\n",
    "\n",
    "clf = tree.DecisionTreeClassifier()\n",
    "clf.fit(x, y)"
   ]
  },
  {
   "cell_type": "markdown",
   "metadata": {},
   "source": [
    "Now let's get the score of the decision tree for the testing set:"
   ]
  },
  {
   "cell_type": "code",
   "execution_count": 31,
   "metadata": {
    "collapsed": false
   },
   "outputs": [
    {
     "name": "stdout",
     "output_type": "stream",
     "text": [
      "0.594971062355\n"
     ]
    }
   ],
   "source": [
    "x_test = [line[:4] for line in test]\n",
    "y_test = [line[4] for line in test]\n",
    "\n",
    "print clf.score(x_test, y_test)"
   ]
  },
  {
   "cell_type": "code",
   "execution_count": 34,
   "metadata": {
    "collapsed": false
   },
   "outputs": [
    {
     "data": {
      "text/plain": [
       "0.59497106235490305"
      ]
     },
     "execution_count": 34,
     "metadata": {},
     "output_type": "execute_result"
    }
   ],
   "source": [
    "from sklearn import ensemble\n",
    "\n",
    "forest = ensemble.RandomForestClassifier()\n",
    "forest.fit(x,y)\n",
    "clf.score(x_test, y_test)"
   ]
  },
  {
   "cell_type": "code",
   "execution_count": null,
   "metadata": {
    "collapsed": true
   },
   "outputs": [],
   "source": []
  }
 ],
 "metadata": {
  "kernelspec": {
   "display_name": "Python 2",
   "language": "python",
   "name": "python2"
  },
  "language_info": {
   "codemirror_mode": {
    "name": "ipython",
    "version": 2
   },
   "file_extension": ".py",
   "mimetype": "text/x-python",
   "name": "python",
   "nbconvert_exporter": "python",
   "pygments_lexer": "ipython2",
   "version": "2.7.11"
  }
 },
 "nbformat": 4,
 "nbformat_minor": 0
}
